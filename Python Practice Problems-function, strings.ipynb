{
 "cells": [
  {
   "cell_type": "markdown",
   "metadata": {},
   "source": [
    "Write the function countVowels(word) which takes a word as an argument and return the vowels('a','e','i','o','u') in that word."
   ]
  },
  {
   "cell_type": "code",
   "execution_count": 6,
   "metadata": {},
   "outputs": [
    {
     "name": "stdout",
     "output_type": "stream",
     "text": [
      "a e "
     ]
    }
   ],
   "source": [
    "def countVowels(word):\n",
    "    count=0\n",
    "    for j in word:\n",
    "        if j=='a' or j=='e' or j=='i' or j=='o' or j=='u':\n",
    "            count=count+1\n",
    "            print(j, end = ' ')\n",
    "        \n",
    "        \n",
    "countVowels(\"apple\")\n",
    "        "
   ]
  },
  {
   "cell_type": "markdown",
   "metadata": {},
   "source": [
    "Write the function UpperCaseVowels(word) which returns the word with all the vowels capitalised."
   ]
  },
  {
   "cell_type": "code",
   "execution_count": 17,
   "metadata": {},
   "outputs": [
    {
     "name": "stdout",
     "output_type": "stream",
     "text": [
      "string= apple\n",
      "After Capitialising Vowels\n",
      "String=ApplE\n"
     ]
    }
   ],
   "source": [
    "def UpperCaseVowels(word):\n",
    "    new=''\n",
    "    print(\"string=\", word)\n",
    "    print(\"After Capitialising Vowels\")\n",
    "    print('String=', end = '')\n",
    "    \n",
    "    for i in word:\n",
    "        if (i=='a' or i =='e' or i =='i' or i=='o' or i=='u'):\n",
    "            new=new+i.upper()\n",
    "        else:\n",
    "            new=new + i\n",
    "    return new\n",
    "\n",
    "print(UpperCaseVowels('apple'))"
   ]
  },
  {
   "cell_type": "markdown",
   "metadata": {},
   "source": [
    "Write the function countVowels(word) which takes a word as an argument and return the vowels('a','e','i','o','u') in that word."
   ]
  },
  {
   "cell_type": "code",
   "execution_count": 19,
   "metadata": {},
   "outputs": [
    {
     "name": "stdout",
     "output_type": "stream",
     "text": [
      "word =  I LOVE MY INDIA\n",
      "{'a': 1, 'e': 1, 'i': 3, 'o': 1, 'u': 0}\n"
     ]
    }
   ],
   "source": [
    "def countvowels(word):\n",
    "    print('word = ' ,word)\n",
    "    word=word.lower()\n",
    "    return{v:word.count(v) for v in 'aeiou'}\n",
    "    \n",
    "print(countvowels(\"I LOVE MY INDIA\"))\n",
    "    "
   ]
  },
  {
   "cell_type": "code",
   "execution_count": 21,
   "metadata": {},
   "outputs": [],
   "source": [
    "word. = 'I LOVE MY INDIA'"
   ]
  },
  {
   "cell_type": "markdown",
   "metadata": {},
   "source": [
    "Write the function replacevowels(word)which removes all the vowels ('a','e','i','o','u') in a word and returns the remaining letters in the word"
   ]
  },
  {
   "cell_type": "code",
   "execution_count": 41,
   "metadata": {},
   "outputs": [
    {
     "name": "stdout",
     "output_type": "stream",
     "text": [
      "the string is: apple\n",
      "after removing vowels\n",
      "the remaining letters: ppl\n"
     ]
    }
   ],
   "source": [
    "def replacevowels(word):\n",
    "    print(\"the string is:\", word)\n",
    "    print('after removing vowels')\n",
    "    print('the remaining letters:', end=' ')\n",
    "    new =''\n",
    "    for i in word:\n",
    "        if (i!='a' and i!='e' and i!='o' and i !='i' and i!='u'):\n",
    "            new = new + i\n",
    "    return new\n",
    "\n",
    "print(replacevowels(\"apple\"))\n",
    "            "
   ]
  },
  {
   "cell_type": "markdown",
   "metadata": {},
   "source": [
    "Write the function isReverse(word1,word2) which takes two words as arguments and return True if the second word is the reverse of the first word."
   ]
  },
  {
   "cell_type": "code",
   "execution_count": 63,
   "metadata": {},
   "outputs": [
    {
     "name": "stdout",
     "output_type": "stream",
     "text": [
      "the first word is: Hello\n",
      "the second word is: India\n",
      "False\n"
     ]
    }
   ],
   "source": [
    "def isReverse(word1,word2):\n",
    "    print('the first word is:', word1)\n",
    "    print('the second word is:', word2)\n",
    "    \n",
    "    if (word1 == word2[::-1]):\n",
    "        return True\n",
    "    else:\n",
    "        return False\n",
    "\n",
    "x=isReverse('Hello', 'India')\n",
    "print(x)"
   ]
  },
  {
   "cell_type": "code",
   "execution_count": 64,
   "metadata": {},
   "outputs": [
    {
     "data": {
      "text/plain": [
       "'P'"
      ]
     },
     "execution_count": 64,
     "metadata": {},
     "output_type": "execute_result"
    }
   ],
   "source": [
    "s=\"Python\"\n",
    "s[0]"
   ]
  },
  {
   "cell_type": "markdown",
   "metadata": {},
   "source": [
    "Write a function mirrorText(word1,word2) which takes two words as arguments and returns a new word in the following order: word1word2word2word1"
   ]
  },
  {
   "cell_type": "code",
   "execution_count": 66,
   "metadata": {},
   "outputs": [
    {
     "name": "stdout",
     "output_type": "stream",
     "text": [
      "the first word: Data\n",
      "the second word: Science\n",
      "the mirrod string: DataScienceScienceData\n"
     ]
    }
   ],
   "source": [
    "def mirrorText(word1,word2):\n",
    "    print('the first word:', word1)\n",
    "    print('the second word:', word2)\n",
    "    print('the mirrod string:', end = ' ')\n",
    "    return word1+word2+word2+word1\n",
    "\n",
    "x=mirrorText('Data', 'Science')\n",
    "print(x)"
   ]
  },
  {
   "cell_type": "code",
   "execution_count": 1,
   "metadata": {},
   "outputs": [
    {
     "name": "stdout",
     "output_type": "stream",
     "text": [
      "Welcome to Java Proramming\n",
      "Welcome to Python Proramming\n"
     ]
    }
   ],
   "source": [
    "s1=\"Welcome to Java Proramming\"\n",
    "s2=s1.replace(\"Java\", \"Python\")\n",
    "print(s1)\n",
    "print(s2)"
   ]
  },
  {
   "cell_type": "code",
   "execution_count": 3,
   "metadata": {},
   "outputs": [
    {
     "data": {
      "text/plain": [
       "'Hell'"
      ]
     },
     "execution_count": 3,
     "metadata": {},
     "output_type": "execute_result"
    }
   ],
   "source": [
    "Str1=\"Hello\"\n",
    "Str2=Str1[:-1]\n",
    "Str2"
   ]
  },
  {
   "cell_type": "code",
   "execution_count": 5,
   "metadata": {},
   "outputs": [
    {
     "name": "stdout",
     "output_type": "stream",
     "text": [
      "The Sum of 10 and 10 is 100\n"
     ]
    }
   ],
   "source": [
    "Str1=\"The Sum of {0:b} and {1:b} is {2:b}\".format(2,2,4)\n",
    "print(Str1)"
   ]
  },
  {
   "cell_type": "code",
   "execution_count": 13,
   "metadata": {},
   "outputs": [
    {
     "name": "stdout",
     "output_type": "stream",
     "text": [
      "4 4 3 3 "
     ]
    }
   ],
   "source": [
    "Str1=\"ABBCCDEEBBFFERBBJJUIBB\"\n",
    "\n",
    "print(Str1.count(\"BB\"), end = ' ')\n",
    "print(Str1.count(\"BB\", 1), end = ' ')\n",
    "print(Str1.count(\"BB\", 2), end = ' ')\n",
    "print(Str1.count(\"BB\", 3), end = ' ')"
   ]
  },
  {
   "cell_type": "code",
   "execution_count": 20,
   "metadata": {
    "scrolled": true
   },
   "outputs": [
    {
     "ename": "TypeError",
     "evalue": "'str' object does not support item assignment",
     "output_type": "error",
     "traceback": [
      "\u001b[1;31m---------------------------------------------------------------------------\u001b[0m",
      "\u001b[1;31mTypeError\u001b[0m                                 Traceback (most recent call last)",
      "\u001b[1;32m<ipython-input-20-73ebda15d2f9>\u001b[0m in \u001b[0;36m<module>\u001b[1;34m\u001b[0m\n\u001b[0;32m      1\u001b[0m \u001b[0mStr1\u001b[0m\u001b[1;33m=\u001b[0m\u001b[1;34m\"Python Proramming\"\u001b[0m\u001b[1;33m\u001b[0m\u001b[1;33m\u001b[0m\u001b[0m\n\u001b[0;32m      2\u001b[0m \u001b[0mStr1\u001b[0m\u001b[1;33m[\u001b[0m\u001b[1;36m0\u001b[0m\u001b[1;33m]\u001b[0m\u001b[1;33m\u001b[0m\u001b[1;33m\u001b[0m\u001b[0m\n\u001b[1;32m----> 3\u001b[1;33m \u001b[0mStr1\u001b[0m\u001b[1;33m[\u001b[0m\u001b[1;36m0\u001b[0m\u001b[1;33m]\u001b[0m\u001b[1;33m=\u001b[0m\u001b[1;34m'j'\u001b[0m\u001b[1;33m\u001b[0m\u001b[1;33m\u001b[0m\u001b[0m\n\u001b[0m",
      "\u001b[1;31mTypeError\u001b[0m: 'str' object does not support item assignment"
     ]
    }
   ],
   "source": [
    "Str1=\"Python Proramming\"\n",
    "Str1[0]\n",
    "Str1[0]='j'"
   ]
  },
  {
   "cell_type": "code",
   "execution_count": 25,
   "metadata": {},
   "outputs": [
    {
     "name": "stdout",
     "output_type": "stream",
     "text": [
      "P r o g a m m i n g "
     ]
    }
   ],
   "source": [
    "S=\"Progamming\"\n",
    "for char in S:\n",
    "    print(char, end = ' ')"
   ]
  },
  {
   "cell_type": "code",
   "execution_count": 29,
   "metadata": {},
   "outputs": [
    {
     "name": "stdout",
     "output_type": "stream",
     "text": [
      "I O E O L "
     ]
    }
   ],
   "source": [
    "S=\"ILOVEWORLD\"\n",
    "for ch in range(0,len(S),2):\n",
    "    print(S[ch], end = ' ')"
   ]
  },
  {
   "cell_type": "code",
   "execution_count": 27,
   "metadata": {},
   "outputs": [
    {
     "data": {
      "text/plain": [
       "10"
      ]
     },
     "execution_count": 27,
     "metadata": {},
     "output_type": "execute_result"
    }
   ],
   "source": [
    "S=\"ILOVEWORLD\"\n",
    "len(S)"
   ]
  },
  {
   "cell_type": "code",
   "execution_count": 34,
   "metadata": {},
   "outputs": [
    {
     "name": "stdout",
     "output_type": "stream",
     "text": [
      "abcbabcaaa\n",
      "Number of 'bc' =  0\n"
     ]
    }
   ],
   "source": [
    "def countbc(word):\n",
    "    print(word)\n",
    "    count=0\n",
    "    for bc in word:\n",
    "        if (bc=='bc'):\n",
    "            count=count + 1\n",
    "    return count\n",
    "    \n",
    "print(\"Number of 'bc' = \", countbc(\"abcbabcaaa\"))"
   ]
  },
  {
   "cell_type": "code",
   "execution_count": 38,
   "metadata": {},
   "outputs": [
    {
     "name": "stdout",
     "output_type": "stream",
     "text": [
      "the word is:  abcbabcaaa\n",
      "Number of 'c' =  2\n"
     ]
    }
   ],
   "source": [
    "def countbc(word):\n",
    "    print(\"the word is: \", word)\n",
    "    count=0\n",
    "    for char in word:\n",
    "        if (char=='c'):\n",
    "            count=count + 1\n",
    "    return count\n",
    "    \n",
    "print(\"Number of 'c' = \", countbc(\"abcbabcaaa\"))"
   ]
  },
  {
   "cell_type": "code",
   "execution_count": 39,
   "metadata": {},
   "outputs": [
    {
     "data": {
      "text/plain": [
       "'UK'"
      ]
     },
     "execution_count": 39,
     "metadata": {},
     "output_type": "execute_result"
    }
   ],
   "source": [
    "Countries = ['India', 'USA', 'UK']\n",
    "Countries[2]"
   ]
  },
  {
   "cell_type": "code",
   "execution_count": 40,
   "metadata": {},
   "outputs": [
    {
     "name": "stdout",
     "output_type": "stream",
     "text": [
      "Python\n"
     ]
    }
   ],
   "source": [
    "a = '\\t\\t\\tPython\\n\\n'\n",
    "print(a.strip())"
   ]
  },
  {
   "cell_type": "code",
   "execution_count": 41,
   "metadata": {},
   "outputs": [
    {
     "data": {
      "text/plain": [
       "'Indi'"
      ]
     },
     "execution_count": 41,
     "metadata": {},
     "output_type": "execute_result"
    }
   ],
   "source": [
    "S=\"India\"\n",
    "S[:-1]"
   ]
  },
  {
   "cell_type": "code",
   "execution_count": 47,
   "metadata": {},
   "outputs": [
    {
     "data": {
      "text/plain": [
       "'India'"
      ]
     },
     "execution_count": 47,
     "metadata": {},
     "output_type": "execute_result"
    }
   ],
   "source": [
    "S[:len(S)]\n",
    "\n"
   ]
  },
  {
   "cell_type": "code",
   "execution_count": 46,
   "metadata": {},
   "outputs": [
    {
     "data": {
      "text/plain": [
       "''"
      ]
     },
     "execution_count": 46,
     "metadata": {},
     "output_type": "execute_result"
    }
   ],
   "source": [
    "S[len(S):]"
   ]
  },
  {
   "cell_type": "code",
   "execution_count": 48,
   "metadata": {},
   "outputs": [
    {
     "data": {
      "text/plain": [
       "'India'"
      ]
     },
     "execution_count": 48,
     "metadata": {},
     "output_type": "execute_result"
    }
   ],
   "source": [
    "S[::]"
   ]
  },
  {
   "cell_type": "code",
   "execution_count": 49,
   "metadata": {},
   "outputs": [
    {
     "data": {
      "text/plain": [
       "'Indi'"
      ]
     },
     "execution_count": 49,
     "metadata": {},
     "output_type": "execute_result"
    }
   ],
   "source": [
    "S[:-1]"
   ]
  },
  {
   "cell_type": "code",
   "execution_count": 50,
   "metadata": {},
   "outputs": [],
   "source": [
    "Str1=\"Welcome to Python Programming\"\n",
    "Str2=\"Welcome to Python Programming\"\n",
    "Str3=Str1\n",
    "Str4=\"to\"\n",
    "\n"
   ]
  },
  {
   "cell_type": "code",
   "execution_count": 51,
   "metadata": {},
   "outputs": [
    {
     "data": {
      "text/plain": [
       "29"
      ]
     },
     "execution_count": 51,
     "metadata": {},
     "output_type": "execute_result"
    }
   ],
   "source": [
    "len(Str1)"
   ]
  },
  {
   "cell_type": "code",
   "execution_count": 52,
   "metadata": {},
   "outputs": [
    {
     "data": {
      "text/plain": [
       "'r'"
      ]
     },
     "execution_count": 52,
     "metadata": {},
     "output_type": "execute_result"
    }
   ],
   "source": [
    "Str1[-7]"
   ]
  },
  {
   "cell_type": "code",
   "execution_count": 53,
   "metadata": {},
   "outputs": [
    {
     "data": {
      "text/plain": [
       "'m'"
      ]
     },
     "execution_count": 53,
     "metadata": {},
     "output_type": "execute_result"
    }
   ],
   "source": [
    "Str1[-3-1]"
   ]
  },
  {
   "cell_type": "code",
   "execution_count": 54,
   "metadata": {},
   "outputs": [
    {
     "data": {
      "text/plain": [
       "True"
      ]
     },
     "execution_count": 54,
     "metadata": {},
     "output_type": "execute_result"
    }
   ],
   "source": [
    "Str3==Str1"
   ]
  },
  {
   "cell_type": "code",
   "execution_count": 55,
   "metadata": {},
   "outputs": [
    {
     "data": {
      "text/plain": [
       "'me to'"
      ]
     },
     "execution_count": 55,
     "metadata": {},
     "output_type": "execute_result"
    }
   ],
   "source": [
    "Str1[5:10]"
   ]
  },
  {
   "cell_type": "code",
   "execution_count": 56,
   "metadata": {},
   "outputs": [
    {
     "data": {
      "text/plain": [
       "3"
      ]
     },
     "execution_count": 56,
     "metadata": {},
     "output_type": "execute_result"
    }
   ],
   "source": [
    "Str1.count('m')"
   ]
  },
  {
   "cell_type": "code",
   "execution_count": 57,
   "metadata": {},
   "outputs": [
    {
     "data": {
      "text/plain": [
       "'T'"
      ]
     },
     "execution_count": 57,
     "metadata": {},
     "output_type": "execute_result"
    }
   ],
   "source": [
    "Str1[8].capitalize()"
   ]
  },
  {
   "cell_type": "code",
   "execution_count": 58,
   "metadata": {},
   "outputs": [
    {
     "data": {
      "text/plain": [
       "'Welcome to Python Programming Welcome to Python Programming'"
      ]
     },
     "execution_count": 58,
     "metadata": {},
     "output_type": "execute_result"
    }
   ],
   "source": [
    "Str1 + \" \" + Str1"
   ]
  },
  {
   "cell_type": "markdown",
   "metadata": {},
   "source": [
    "Write a program to read string and display \"total number of uppercase and lowercase letters\""
   ]
  },
  {
   "cell_type": "code",
   "execution_count": 59,
   "metadata": {},
   "outputs": [
    {
     "name": "stdout",
     "output_type": "stream",
     "text": [
      "the word is adef\n",
      "the case changed ADEF\n"
     ]
    }
   ],
   "source": [
    "def f1(word):\n",
    "    print(\"the word is\", word)\n",
    "    print(\"the case changed\", end= ' ')\n",
    "    new=''\n",
    "    for i in word: \n",
    "        new=new+i.upper()\n",
    "    return new\n",
    "\n",
    "print(f1(\"adef\"))"
   ]
  },
  {
   "cell_type": "code",
   "execution_count": 61,
   "metadata": {},
   "outputs": [
    {
     "name": "stdout",
     "output_type": "stream",
     "text": [
      "the word is adef\n",
      "the case changed "
     ]
    },
    {
     "ename": "NameError",
     "evalue": "name 'uppercase' is not defined",
     "output_type": "error",
     "traceback": [
      "\u001b[1;31m---------------------------------------------------------------------------\u001b[0m",
      "\u001b[1;31mNameError\u001b[0m                                 Traceback (most recent call last)",
      "\u001b[1;32m<ipython-input-61-26dbed6f00e5>\u001b[0m in \u001b[0;36m<module>\u001b[1;34m\u001b[0m\n\u001b[0;32m      9\u001b[0m     \u001b[1;32mreturn\u001b[0m \u001b[0mcount\u001b[0m\u001b[1;33m\u001b[0m\u001b[1;33m\u001b[0m\u001b[0m\n\u001b[0;32m     10\u001b[0m \u001b[1;33m\u001b[0m\u001b[0m\n\u001b[1;32m---> 11\u001b[1;33m \u001b[0mprint\u001b[0m\u001b[1;33m(\u001b[0m\u001b[0mf2\u001b[0m\u001b[1;33m(\u001b[0m\u001b[1;34m\"adef\"\u001b[0m\u001b[1;33m)\u001b[0m\u001b[1;33m)\u001b[0m\u001b[1;33m\u001b[0m\u001b[1;33m\u001b[0m\u001b[0m\n\u001b[0m",
      "\u001b[1;32m<ipython-input-61-26dbed6f00e5>\u001b[0m in \u001b[0;36mf2\u001b[1;34m(word)\u001b[0m\n\u001b[0;32m      4\u001b[0m     \u001b[0mcount\u001b[0m\u001b[1;33m=\u001b[0m\u001b[1;36m0\u001b[0m\u001b[1;33m\u001b[0m\u001b[1;33m\u001b[0m\u001b[0m\n\u001b[0;32m      5\u001b[0m     \u001b[1;32mfor\u001b[0m \u001b[0mi\u001b[0m \u001b[1;32min\u001b[0m \u001b[0mword\u001b[0m\u001b[1;33m:\u001b[0m\u001b[1;33m\u001b[0m\u001b[1;33m\u001b[0m\u001b[0m\n\u001b[1;32m----> 6\u001b[1;33m         \u001b[1;32mif\u001b[0m \u001b[1;33m(\u001b[0m\u001b[0mi\u001b[0m \u001b[1;33m==\u001b[0m\u001b[0muppercase\u001b[0m\u001b[1;33m)\u001b[0m\u001b[1;33m:\u001b[0m\u001b[1;33m\u001b[0m\u001b[1;33m\u001b[0m\u001b[0m\n\u001b[0m\u001b[0;32m      7\u001b[0m             \u001b[0mcount\u001b[0m\u001b[1;33m=\u001b[0m\u001b[0mcount\u001b[0m \u001b[1;33m+\u001b[0m \u001b[1;36m1\u001b[0m\u001b[1;33m\u001b[0m\u001b[1;33m\u001b[0m\u001b[0m\n\u001b[0;32m      8\u001b[0m \u001b[1;33m\u001b[0m\u001b[0m\n",
      "\u001b[1;31mNameError\u001b[0m: name 'uppercase' is not defined"
     ]
    }
   ],
   "source": [
    "def f2(word):\n",
    "    print(\"the word is\", word)\n",
    "    print(\"the case changed\", end= ' ')\n",
    "    count=0\n",
    "    for i in word:\n",
    "        if (i ==uppercase):\n",
    "            count=count + 1\n",
    "            \n",
    "    return count\n",
    "\n",
    "print(f2(\"adef\"))"
   ]
  },
  {
   "cell_type": "code",
   "execution_count": 102,
   "metadata": {},
   "outputs": [
    {
     "name": "stdout",
     "output_type": "stream",
     "text": [
      "Input a string: Python\n",
      "Total number of Uppercase: 1\n",
      "Total number of lowercase: 5\n"
     ]
    }
   ],
   "source": [
    "def f3(str1):\n",
    "    print(\"Input a string: \", end='')\n",
    "    \n",
    "    str1 = input()\n",
    "    \n",
    "    \n",
    "\n",
    "    no_of_ucase=0\n",
    "    no_of_lcase=0\n",
    "\n",
    "    for i in str1:\n",
    "      no_of_ucase = no_of_ucase + i.isupper()\n",
    "      no_of_lcase = no_of_lcase+ i.islower()\n",
    "    print(\"Total number of Uppercase:\", no_of_ucase)\n",
    "    print(\"Total number of lowercase:\", no_of_lcase)\n",
    "    \n",
    "f3(str1)\n"
   ]
  },
  {
   "cell_type": "code",
   "execution_count": 107,
   "metadata": {},
   "outputs": [
    {
     "name": "stdout",
     "output_type": "stream",
     "text": [
      "Input a string: deep\n",
      "Input string is:  deep\n",
      "Total number of uppercase letters:  0\n",
      "Total number of lowercase letters:  4\n"
     ]
    }
   ],
   "source": [
    "print(\"Input a string: \", end ='')\n",
    "str1 = input()\n",
    "\n",
    "no_of_ucase=0\n",
    "no_of_lcase =0\n",
    "\n",
    "for c in str1:\n",
    "    if c>='A' and c<='Z':\n",
    "        no_of_ucase = no_of_ucase + 1\n",
    "    if c>='a' and c<='z':\n",
    "        no_of_lcase += 1\n",
    "\n",
    "print(\"Input string is: \", str1)\n",
    "print(\"Total number of uppercase letters: \", no_of_ucase)\n",
    "print(\"Total number of lowercase letters: \", no_of_lcase)"
   ]
  },
  {
   "cell_type": "markdown",
   "metadata": {},
   "source": [
    "Write the function Echo_Word(word) which takes a word as the argument and returns a word that repeats itself based on the number of letters in the word."
   ]
  },
  {
   "cell_type": "code",
   "execution_count": 120,
   "metadata": {},
   "outputs": [
    {
     "name": "stdout",
     "output_type": "stream",
     "text": [
      "The word is: Deep\n",
      "the no of letters in the word: 4\n",
      "string=DeepDeepDeepDeep\n"
     ]
    }
   ],
   "source": [
    "def Echo_Word(word, letters):\n",
    "    print(\"The word is:\", word)\n",
    "    print(\"the no of letters in the word:\", letters)\n",
    "    print(\"string=\", end = '')\n",
    "    \n",
    "    newstr=''\n",
    "    newstr=word*len(word)\n",
    "    return newstr\n",
    "\n",
    "x=Echo_Word(\"Deep\", 4)\n",
    "print(x)\n",
    "    "
   ]
  },
  {
   "cell_type": "code",
   "execution_count": 114,
   "metadata": {},
   "outputs": [
    {
     "name": "stdout",
     "output_type": "stream",
     "text": [
      "deepakdeepakdeepakdeepakdeepak\n"
     ]
    }
   ],
   "source": [
    "def echo(stri,x):\n",
    "    \n",
    "   return stri * x\n",
    "\n",
    "print(echo('deepak', 5))"
   ]
  },
  {
   "cell_type": "code",
   "execution_count": 122,
   "metadata": {},
   "outputs": [
    {
     "name": "stdout",
     "output_type": "stream",
     "text": [
      "the word is: Deepak\n",
      "the reverse word is:  kapeeD\n"
     ]
    }
   ],
   "source": [
    "def Reverse_Word(word):\n",
    "    print(\"the word is:\" , word)\n",
    "    print(\"the reverse word is: \", end = ' ')\n",
    "    return word[::-1]\n",
    "\n",
    "print(Reverse_Word(\"Deepak\"))"
   ]
  },
  {
   "cell_type": "markdown",
   "metadata": {},
   "source": [
    "Write the function startEndVowels(word) which returns True if the word starts and ends with vowels."
   ]
  },
  {
   "cell_type": "code",
   "execution_count": 144,
   "metadata": {},
   "outputs": [
    {
     "ename": "SyntaxError",
     "evalue": "invalid syntax (<ipython-input-144-5ffb039d9be5>, line 3)",
     "output_type": "error",
     "traceback": [
      "\u001b[1;36m  File \u001b[1;32m\"<ipython-input-144-5ffb039d9be5>\"\u001b[1;36m, line \u001b[1;32m3\u001b[0m\n\u001b[1;33m    if (i[0]='a' or i[0]='e' or i[0]='i' or i[0]='o' or i[0]='u') and (i[-1]='a' or i[-1]='e' or i[-1]='i' or i[-1]='o' or i[-1]='u'):\u001b[0m\n\u001b[1;37m            ^\u001b[0m\n\u001b[1;31mSyntaxError\u001b[0m\u001b[1;31m:\u001b[0m invalid syntax\n"
     ]
    }
   ],
   "source": [
    "def startEndVowels(word):\n",
    "    for i in word:\n",
    "        if (i[0]='a' or i[0]='e' or i[0]='i' or i[0]='o' or i[0]='u') and (i[-1]='a' or i[-1]='e' or i[-1]='i' or i[-1]='o' or i[-1]='u'):\n",
    "            return True\n",
    "        else:\n",
    "            return False\n",
    "        \n",
    "startEndVowels(\"Apple\")"
   ]
  },
  {
   "cell_type": "code",
   "execution_count": 146,
   "metadata": {},
   "outputs": [
    {
     "data": {
      "text/plain": [
       "True"
      ]
     },
     "execution_count": 146,
     "metadata": {},
     "output_type": "execute_result"
    }
   ],
   "source": [
    "def startEndVowels(word):\n",
    "    for i in word:\n",
    "        if (i[0]=='a' or i[0]=='e' or i[0]=='i' or i[0]=='o' or i[0]=='u') and (i[-1]=='a' or i[-1]=='e' or i[-1]=='i' or i[-1]=='o' or i[-1]=='u'):\n",
    "            return True\n",
    "        else:\n",
    "            return False\n",
    "        \n",
    "startEndVowels(\"apple\")"
   ]
  },
  {
   "cell_type": "code",
   "execution_count": 166,
   "metadata": {},
   "outputs": [
    {
     "name": "stdout",
     "output_type": "stream",
     "text": [
      "a e "
     ]
    }
   ],
   "source": [
    "def getvowels(word):\n",
    "    count=0\n",
    "    for i in word:\n",
    "        if (i[0]=='a' or i[0]=='e' or i[0]=='i' or i[0]=='o' or i[0]=='u') and (i[-1]=='a' or i[-1]=='e' or i[-1]=='i' or i[-1]=='o' or i[-1]=='u'):\n",
    "            count+=1\n",
    "            print(i, end =' ')\n",
    "   \n",
    "        \n",
    "getvowels(\"apple\")"
   ]
  },
  {
   "cell_type": "code",
   "execution_count": 167,
   "metadata": {},
   "outputs": [
    {
     "ename": "UnboundLocalError",
     "evalue": "local variable 'x' referenced before assignment",
     "output_type": "error",
     "traceback": [
      "\u001b[1;31m---------------------------------------------------------------------------\u001b[0m",
      "\u001b[1;31mUnboundLocalError\u001b[0m                         Traceback (most recent call last)",
      "\u001b[1;32m<ipython-input-167-d19b254ec2a2>\u001b[0m in \u001b[0;36m<module>\u001b[1;34m\u001b[0m\n\u001b[0;32m      3\u001b[0m     \u001b[0mx\u001b[0m\u001b[1;33m=\u001b[0m\u001b[0mx\u001b[0m\u001b[1;33m+\u001b[0m\u001b[1;36m10\u001b[0m\u001b[1;33m\u001b[0m\u001b[1;33m\u001b[0m\u001b[0m\n\u001b[0;32m      4\u001b[0m     \u001b[0mprint\u001b[0m\u001b[1;33m(\u001b[0m\u001b[0mx\u001b[0m\u001b[1;33m)\u001b[0m\u001b[1;33m\u001b[0m\u001b[1;33m\u001b[0m\u001b[0m\n\u001b[1;32m----> 5\u001b[1;33m \u001b[0mf\u001b[0m\u001b[1;33m(\u001b[0m\u001b[1;33m)\u001b[0m\u001b[1;33m\u001b[0m\u001b[1;33m\u001b[0m\u001b[0m\n\u001b[0m",
      "\u001b[1;32m<ipython-input-167-d19b254ec2a2>\u001b[0m in \u001b[0;36mf\u001b[1;34m()\u001b[0m\n\u001b[0;32m      1\u001b[0m \u001b[0mx\u001b[0m\u001b[1;33m=\u001b[0m\u001b[1;36m10\u001b[0m\u001b[1;33m\u001b[0m\u001b[1;33m\u001b[0m\u001b[0m\n\u001b[0;32m      2\u001b[0m \u001b[1;32mdef\u001b[0m \u001b[0mf\u001b[0m\u001b[1;33m(\u001b[0m\u001b[1;33m)\u001b[0m\u001b[1;33m:\u001b[0m\u001b[1;33m\u001b[0m\u001b[1;33m\u001b[0m\u001b[0m\n\u001b[1;32m----> 3\u001b[1;33m     \u001b[0mx\u001b[0m\u001b[1;33m=\u001b[0m\u001b[0mx\u001b[0m\u001b[1;33m+\u001b[0m\u001b[1;36m10\u001b[0m\u001b[1;33m\u001b[0m\u001b[1;33m\u001b[0m\u001b[0m\n\u001b[0m\u001b[0;32m      4\u001b[0m     \u001b[0mprint\u001b[0m\u001b[1;33m(\u001b[0m\u001b[0mx\u001b[0m\u001b[1;33m)\u001b[0m\u001b[1;33m\u001b[0m\u001b[1;33m\u001b[0m\u001b[0m\n\u001b[0;32m      5\u001b[0m \u001b[0mf\u001b[0m\u001b[1;33m(\u001b[0m\u001b[1;33m)\u001b[0m\u001b[1;33m\u001b[0m\u001b[1;33m\u001b[0m\u001b[0m\n",
      "\u001b[1;31mUnboundLocalError\u001b[0m: local variable 'x' referenced before assignment"
     ]
    }
   ],
   "source": [
    "x=10\n",
    "def f():\n",
    "    x=x+10\n",
    "    print(x)\n",
    "f()"
   ]
  },
  {
   "cell_type": "code",
   "execution_count": 168,
   "metadata": {},
   "outputs": [
    {
     "name": "stdout",
     "output_type": "stream",
     "text": [
      "30 21\n"
     ]
    }
   ],
   "source": [
    "def Func_A(P=10, Q= 20):\n",
    "    P = P + Q\n",
    "    Q = Q + 1\n",
    "    print(P, Q)\n",
    "Func_A(Q=20, P = 10)"
   ]
  },
  {
   "cell_type": "code",
   "execution_count": 187,
   "metadata": {},
   "outputs": [
    {
     "name": "stdout",
     "output_type": "stream",
     "text": [
      "11\n"
     ]
    }
   ],
   "source": [
    "def test():\n",
    "    x= 10\n",
    "    \n",
    "x= 11\n",
    "test()\n",
    "print(x)\n"
   ]
  },
  {
   "cell_type": "code",
   "execution_count": 188,
   "metadata": {},
   "outputs": [
    {
     "name": "stdout",
     "output_type": "stream",
     "text": [
      "A\n"
     ]
    }
   ],
   "source": [
    "def test():\n",
    "    global x\n",
    "    x='A'\n",
    "  \n",
    "x='Z'\n",
    "test()\n",
    "print(x)"
   ]
  },
  {
   "cell_type": "code",
   "execution_count": 189,
   "metadata": {},
   "outputs": [
    {
     "name": "stdout",
     "output_type": "stream",
     "text": [
      "100\n"
     ]
    }
   ],
   "source": [
    "def test(x):\n",
    "    x=200\n",
    "x=100\n",
    "test(x)\n",
    "print(x)"
   ]
  },
  {
   "cell_type": "code",
   "execution_count": 205,
   "metadata": {},
   "outputs": [
    {
     "name": "stdout",
     "output_type": "stream",
     "text": [
      "None\n"
     ]
    }
   ],
   "source": [
    "def test(x):\n",
    "    p=90\n",
    "    \n",
    "p=50\n",
    "\n",
    "print(test(p))"
   ]
  },
  {
   "cell_type": "code",
   "execution_count": 209,
   "metadata": {},
   "outputs": [
    {
     "name": "stdout",
     "output_type": "stream",
     "text": [
      "15\n"
     ]
    }
   ],
   "source": [
    "value=10\n",
    "def evaluate_expression_1(Z):\n",
    "    Z=Z+5\n",
    "    def evaluate_expression_2(Z):\n",
    "        print('Hello')\n",
    "        return Z\n",
    "    return Z\n",
    "\n",
    "print(evaluate_expression_1(value))"
   ]
  },
  {
   "cell_type": "code",
   "execution_count": 210,
   "metadata": {},
   "outputs": [
    {
     "name": "stdout",
     "output_type": "stream",
     "text": [
      "8\n"
     ]
    }
   ],
   "source": [
    "def evaluate_expression_1():\n",
    "    global x\n",
    "    x=x-5\n",
    "    \n",
    "    def evaluate_expression_2():\n",
    "        global x\n",
    "        return x+ 3\n",
    "    \n",
    "    return evaluate_expression_2()\n",
    "x=10\n",
    "print(evaluate_expression_1())"
   ]
  },
  {
   "cell_type": "code",
   "execution_count": 212,
   "metadata": {},
   "outputs": [
    {
     "name": "stdout",
     "output_type": "stream",
     "text": [
      "20 5\n"
     ]
    }
   ],
   "source": [
    "def perform_multiplication(Num1,Num2):\n",
    "    Num2=Num1*Num2\n",
    "    return Num1, Num2\n",
    "Num2, Num1=perform_multiplication(5,4)\n",
    "print(Num1,Num2)"
   ]
  },
  {
   "cell_type": "code",
   "execution_count": 213,
   "metadata": {},
   "outputs": [
    {
     "name": "stdout",
     "output_type": "stream",
     "text": [
      "Designation =  Manager Salary= 25000\n",
      "Designation =  30000 Salary= Programmer\n"
     ]
    }
   ],
   "source": [
    "def Display(Designation, Salary):\n",
    "    print(\"Designation = \", Designation, \"Salary=\", Salary)\n",
    "Display(\"Manager\", 25000)\n",
    "Display(30000, 'Programmer')"
   ]
  },
  {
   "cell_type": "code",
   "execution_count": null,
   "metadata": {},
   "outputs": [],
   "source": []
  },
  {
   "cell_type": "markdown",
   "metadata": {},
   "source": [
    "Write a function eval_Quadratic _Equa(a,b,c,x) which returns the value of any quadratic equation of form\n",
    "\n",
    "ax^2 + bx + c"
   ]
  },
  {
   "cell_type": "code",
   "execution_count": 222,
   "metadata": {},
   "outputs": [
    {
     "name": "stdout",
     "output_type": "stream",
     "text": [
      "the value of a: 2\n",
      "the value of b: 2\n",
      "the value of c: 10\n",
      "the value of x: 5\n"
     ]
    },
    {
     "data": {
      "text/plain": [
       "70"
      ]
     },
     "execution_count": 222,
     "metadata": {},
     "output_type": "execute_result"
    }
   ],
   "source": [
    "def eval_Quadratic_Equa(a,b,c,x):\n",
    "    print(\"the value of a:\", a)\n",
    "    print(\"the value of b:\", b)\n",
    "    print(\"the value of c:\", c)\n",
    "    print(\"the value of x:\", x)\n",
    "    \n",
    "    return (a*x*x + b*x + c)\n",
    "    \n",
    "\n",
    "eval_Quadratic_Equa(2,2,10,x)"
   ]
  },
  {
   "cell_type": "code",
   "execution_count": 225,
   "metadata": {},
   "outputs": [
    {
     "data": {
      "text/plain": [
       "70"
      ]
     },
     "execution_count": 225,
     "metadata": {},
     "output_type": "execute_result"
    }
   ],
   "source": [
    "def evalQuadratic(a, b, c, x):\n",
    "    '''\n",
    "    a, b, c: numerical values for the coefficients of a quadratic equation\n",
    "    x: numerical value at which to evaluate the quadratic.\n",
    "    '''\n",
    "    return ((a*(x*x))+(b*x)+c)\n",
    "\n",
    "evalQuadratic(2,2,10,x)"
   ]
  },
  {
   "cell_type": "markdown",
   "metadata": {},
   "source": [
    "Write a function calc_exp(base,exp) which computes the exponent of any number, i.e. base^exp . The function should take two values as base, which can be float or integer. Exp will be an integer greater than 0."
   ]
  },
  {
   "cell_type": "code",
   "execution_count": 3,
   "metadata": {},
   "outputs": [
    {
     "name": "stdout",
     "output_type": "stream",
     "text": [
      "please enter a base number:2\n",
      "please enter a number:2\n",
      "lculated final value is: 4\n"
     ]
    }
   ],
   "source": [
    "def calc_exp(base,exp):\n",
    "   \n",
    "    base=int(input(\"please enter a base number:\"))\n",
    "    exp=int(input(\"please enter a number:\"))\n",
    "    if exp==0:\n",
    "        return 1\n",
    "    else:\n",
    "        return base**exp\n",
    "    \n",
    "\n",
    "print(\"lculated final value is:\", calc_exp(2,2))"
   ]
  },
  {
   "cell_type": "code",
   "execution_count": 4,
   "metadata": {},
   "outputs": [
    {
     "data": {
      "text/plain": [
       "4"
      ]
     },
     "execution_count": 4,
     "metadata": {},
     "output_type": "execute_result"
    }
   ],
   "source": [
    "def recurPower(base, exp):\n",
    "    '''\n",
    "    base: int or float.\n",
    "    exp: int >= 0\n",
    "    returns: int or float, base^exp\n",
    "    '''\n",
    "    # Your code here\n",
    "    if exp == 0:\n",
    "        return 1\n",
    "    else:\n",
    "        return base * recurPower(base, exp - 1)\n",
    "    \n",
    "recurPower(2,2)"
   ]
  },
  {
   "cell_type": "markdown",
   "metadata": {},
   "source": [
    "Write a function Calc_GCD_Recurr(a,b) which calculates the GCD recursively of two numbers. The function should take two positive integers and should return one integer as GDC."
   ]
  },
  {
   "cell_type": "code",
   "execution_count": 45,
   "metadata": {},
   "outputs": [
    {
     "data": {
      "text/plain": [
       "18"
      ]
     },
     "execution_count": 45,
     "metadata": {},
     "output_type": "execute_result"
    }
   ],
   "source": [
    "import math \n",
    "\n",
    "def Calc_GCD_Recurr(a,b):\n",
    "    if a%b==0:\n",
    "        return min(a,b)\n",
    "    elif b%a==0:\n",
    "        return min(a,b)\n",
    "    elif a>b:\n",
    "        return math.gcd(a-b,b)\n",
    "    elif b>a:\n",
    "        return math.gcd(a,b-a)\n",
    "Calc_GCD_Recurr(216,234)"
   ]
  },
  {
   "cell_type": "code",
   "execution_count": 29,
   "metadata": {},
   "outputs": [
    {
     "data": {
      "text/plain": [
       "3"
      ]
     },
     "execution_count": 29,
     "metadata": {},
     "output_type": "execute_result"
    }
   ],
   "source": [
    "15%12"
   ]
  },
  {
   "cell_type": "code",
   "execution_count": 37,
   "metadata": {},
   "outputs": [
    {
     "data": {
      "text/plain": [
       "24"
      ]
     },
     "execution_count": 37,
     "metadata": {},
     "output_type": "execute_result"
    }
   ],
   "source": [
    "60%36"
   ]
  },
  {
   "cell_type": "markdown",
   "metadata": {},
   "source": [
    "Write a function reverse_number() to return the reverse of the number entered."
   ]
  },
  {
   "cell_type": "code",
   "execution_count": 95,
   "metadata": {},
   "outputs": [
    {
     "data": {
      "text/plain": [
       "54321"
      ]
     },
     "execution_count": 95,
     "metadata": {},
     "output_type": "execute_result"
    }
   ],
   "source": [
    "def reverse_number(num):\n",
    "    rev=0\n",
    "    while (num>0):\n",
    "        rem=num%10\n",
    "        num=num//10\n",
    "        rev=rev*10 + rem\n",
    "        \n",
    "    return rev\n",
    "        \n",
    "\n",
    "reverse_number(12345)\n",
    "    "
   ]
  },
  {
   "cell_type": "markdown",
   "metadata": {},
   "source": [
    "# Doubt: Can't we use if statement for running loop and finding the reverse of a number?"
   ]
  },
  {
   "cell_type": "markdown",
   "metadata": {},
   "source": [
    "A four digit integer is entered through the keyword. Write a function to calculate the sum of the four digit number both without recursion and recursion."
   ]
  },
  {
   "cell_type": "code",
   "execution_count": 101,
   "metadata": {},
   "outputs": [
    {
     "name": "stdout",
     "output_type": "stream",
     "text": [
      "number a: 2\n",
      "number b: 2\n",
      "number c: 2\n",
      "number d: 2\n",
      "the sum of 2 + 2 + 2 + 2 is 8\n"
     ]
    }
   ],
   "source": [
    "def f1(a,b,c,d):\n",
    "    print('number a:', a)\n",
    "    print('number b:', b)\n",
    "    print('number c:', c)\n",
    "    print('number d:', d)\n",
    "    print('the sum of',a,'+',b,'+',c,'+',d,'is', end =' ')\n",
    "    return a+b+c+d\n",
    "print(f1(2,2,2,2))"
   ]
  },
  {
   "cell_type": "code",
   "execution_count": 107,
   "metadata": {},
   "outputs": [
    {
     "data": {
      "text/plain": [
       "8"
      ]
     },
     "execution_count": 107,
     "metadata": {},
     "output_type": "execute_result"
    }
   ],
   "source": [
    "def f2(n):\n",
    "    sum=0\n",
    "    rem=0\n",
    "    while n>0:\n",
    "        rem=n%10\n",
    "        n=n//10\n",
    "        sum=sum+rem\n",
    "    return sum\n",
    "\n",
    "f2(2222)\n",
    "        "
   ]
  },
  {
   "cell_type": "code",
   "execution_count": 103,
   "metadata": {},
   "outputs": [
    {
     "data": {
      "text/plain": [
       "1"
      ]
     },
     "execution_count": 103,
     "metadata": {},
     "output_type": "execute_result"
    }
   ],
   "source": [
    "1111%10\n"
   ]
  },
  {
   "cell_type": "code",
   "execution_count": 105,
   "metadata": {},
   "outputs": [
    {
     "data": {
      "text/plain": [
       "121"
      ]
     },
     "execution_count": 105,
     "metadata": {},
     "output_type": "execute_result"
    }
   ],
   "source": [
    "1212//10\n"
   ]
  },
  {
   "cell_type": "markdown",
   "metadata": {},
   "source": [
    "A positive number is entered through the keyword. Write a function factors (num) to obtain the factors of the given numbers."
   ]
  },
  {
   "cell_type": "code",
   "execution_count": 112,
   "metadata": {},
   "outputs": [
    {
     "name": "stdout",
     "output_type": "stream",
     "text": [
      "The factors of 10 are:\n",
      "1\n",
      "2\n",
      "5\n",
      "10\n"
     ]
    }
   ],
   "source": [
    "def print_factors(x):\n",
    "   print(\"The factors of\",x,\"are:\")\n",
    "   for i in range(1, x + 1):\n",
    "       if x % i == 0:\n",
    "           print(i)\n",
    "\n",
    "\n",
    "\n",
    "print_factors(10)\n",
    "\n"
   ]
  },
  {
   "cell_type": "code",
   "execution_count": null,
   "metadata": {},
   "outputs": [],
   "source": []
  }
 ],
 "metadata": {
  "kernelspec": {
   "display_name": "Python 3",
   "language": "python",
   "name": "python3"
  },
  "language_info": {
   "codemirror_mode": {
    "name": "ipython",
    "version": 3
   },
   "file_extension": ".py",
   "mimetype": "text/x-python",
   "name": "python",
   "nbconvert_exporter": "python",
   "pygments_lexer": "ipython3",
   "version": "3.7.4"
  }
 },
 "nbformat": 4,
 "nbformat_minor": 2
}
